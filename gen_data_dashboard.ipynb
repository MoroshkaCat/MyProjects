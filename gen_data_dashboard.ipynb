{
  "nbformat": 4,
  "nbformat_minor": 0,
  "metadata": {
    "colab": {
      "provenance": [],
      "authorship_tag": "ABX9TyMUixVkt7dYl/BNIZ00FO19",
      "include_colab_link": true
    },
    "kernelspec": {
      "name": "python3",
      "display_name": "Python 3"
    },
    "language_info": {
      "name": "python"
    }
  },
  "cells": [
    {
      "cell_type": "markdown",
      "metadata": {
        "id": "view-in-github",
        "colab_type": "text"
      },
      "source": [
        "<a href=\"https://colab.research.google.com/github/MoroshkaCat/MyProjects/blob/main/gen_data_dashboard.ipynb\" target=\"_parent\"><img src=\"https://colab.research.google.com/assets/colab-badge.svg\" alt=\"Open In Colab\"/></a>"
      ]
    },
    {
      "cell_type": "markdown",
      "source": [
        "\n",
        "#General description of project\n",
        "This script provides a quick way to generate synthetic test data for educational purposes. The parameters can be customized to fit individual needs. The final output is a CSV file that can be downloaded locally or saved to Google Drive. You can view an example dashboard in Tableau created with these generated data at the link below:  \n",
        "\n",
        "https://public.tableau.com/shared/NYY9MTPTD?:display_count=n&:origin=viz_share_link\n",
        "\n"
      ],
      "metadata": {
        "id": "f-mZBOyoT9Sp"
      }
    },
    {
      "cell_type": "markdown",
      "source": [
        "##Description of the script's workflow\n",
        "1. **Import Libraries:** The script uses pandas, random, faker, and datetime libraries to generate and handle data.\n",
        "\n",
        "2. **Initialize Data:** It sets initial values for various parameters, including platform names, product categories, and real European regions and countries for regional data.\n",
        "\n",
        "3. **Generate Products:** It creates product data with unique product_id, product name, category, and price within the specified range.\n",
        "\n",
        "4. **Generate Transactions and Refunds:** For each product, the script generates a random number of transactions with unique transaction_id and transaction dates. Refunds are created for 5% of transactions, and the refund date is always after the transaction date.\n",
        "\n",
        "5. **Create DataFrames and Save:** The generated transaction and refund data are combined into a single DataFrame and saved as a CSV file.\n",
        "\n",
        "When you run this script, it will produce a CSV file containing structured data that can be used for analysis or visualization."
      ],
      "metadata": {
        "id": "MhPc_pXIKrTe"
      }
    },
    {
      "cell_type": "code",
      "source": [
        "!pip install faker"
      ],
      "metadata": {
        "colab": {
          "base_uri": "https://localhost:8080/"
        },
        "id": "mA_b2HE-WoNV",
        "outputId": "c4f0064c-3610-46ae-dbd7-5ce9d7343d3e"
      },
      "execution_count": null,
      "outputs": [
        {
          "output_type": "stream",
          "name": "stdout",
          "text": [
            "Collecting faker\n",
            "  Downloading Faker-30.8.2-py3-none-any.whl.metadata (15 kB)\n",
            "Requirement already satisfied: python-dateutil>=2.4 in /usr/local/lib/python3.10/dist-packages (from faker) (2.8.2)\n",
            "Requirement already satisfied: typing-extensions in /usr/local/lib/python3.10/dist-packages (from faker) (4.12.2)\n",
            "Requirement already satisfied: six>=1.5 in /usr/local/lib/python3.10/dist-packages (from python-dateutil>=2.4->faker) (1.16.0)\n",
            "Downloading Faker-30.8.2-py3-none-any.whl (1.8 MB)\n",
            "\u001b[?25l   \u001b[90m━━━━━━━━━━━━━━━━━━━━━━━━━━━━━━━━━━━━━━━━\u001b[0m \u001b[32m0.0/1.8 MB\u001b[0m \u001b[31m?\u001b[0m eta \u001b[36m-:--:--\u001b[0m\r\u001b[2K   \u001b[91m━━━━━━━━━━━━━━━━━━━━━━━━━━━━━━━━━━━━━━━\u001b[0m\u001b[91m╸\u001b[0m \u001b[32m1.8/1.8 MB\u001b[0m \u001b[31m114.6 MB/s\u001b[0m eta \u001b[36m0:00:01\u001b[0m\r\u001b[2K   \u001b[90m━━━━━━━━━━━━━━━━━━━━━━━━━━━━━━━━━━━━━━━━\u001b[0m \u001b[32m1.8/1.8 MB\u001b[0m \u001b[31m48.7 MB/s\u001b[0m eta \u001b[36m0:00:00\u001b[0m\n",
            "\u001b[?25hInstalling collected packages: faker\n",
            "Successfully installed faker-30.8.2\n"
          ]
        }
      ]
    },
    {
      "cell_type": "code",
      "execution_count": null,
      "metadata": {
        "id": "aXXzw0TNBkRv",
        "colab": {
          "base_uri": "https://localhost:8080/",
          "height": 35
        },
        "outputId": "24390c4a-4422-45cd-8f83-655834c8a98c"
      },
      "outputs": [
        {
          "output_type": "display_data",
          "data": {
            "text/plain": [
              "<IPython.core.display.Javascript object>"
            ],
            "application/javascript": [
              "\n",
              "    async function download(id, filename, size) {\n",
              "      if (!google.colab.kernel.accessAllowed) {\n",
              "        return;\n",
              "      }\n",
              "      const div = document.createElement('div');\n",
              "      const label = document.createElement('label');\n",
              "      label.textContent = `Downloading \"${filename}\": `;\n",
              "      div.appendChild(label);\n",
              "      const progress = document.createElement('progress');\n",
              "      progress.max = size;\n",
              "      div.appendChild(progress);\n",
              "      document.body.appendChild(div);\n",
              "\n",
              "      const buffers = [];\n",
              "      let downloaded = 0;\n",
              "\n",
              "      const channel = await google.colab.kernel.comms.open(id);\n",
              "      // Send a message to notify the kernel that we're ready.\n",
              "      channel.send({})\n",
              "\n",
              "      for await (const message of channel.messages) {\n",
              "        // Send a message to notify the kernel that we're ready.\n",
              "        channel.send({})\n",
              "        if (message.buffers) {\n",
              "          for (const buffer of message.buffers) {\n",
              "            buffers.push(buffer);\n",
              "            downloaded += buffer.byteLength;\n",
              "            progress.value = downloaded;\n",
              "          }\n",
              "        }\n",
              "      }\n",
              "      const blob = new Blob(buffers, {type: 'application/binary'});\n",
              "      const a = document.createElement('a');\n",
              "      a.href = window.URL.createObjectURL(blob);\n",
              "      a.download = filename;\n",
              "      div.appendChild(a);\n",
              "      a.click();\n",
              "      div.remove();\n",
              "    }\n",
              "  "
            ]
          },
          "metadata": {}
        },
        {
          "output_type": "display_data",
          "data": {
            "text/plain": [
              "<IPython.core.display.Javascript object>"
            ],
            "application/javascript": [
              "download(\"download_5f16d6a1-6d51-4e10-af34-bc3bccdce525\", \"generated_data.csv\", 58246)"
            ]
          },
          "metadata": {}
        },
        {
          "output_type": "stream",
          "name": "stdout",
          "text": [
            "CSV file saved as generated_data.csv\n"
          ]
        }
      ],
      "source": [
        "import pandas as pd\n",
        "import random\n",
        "from faker import Faker\n",
        "from datetime import datetime, timedelta\n",
        "\n",
        "# Initialize Faker for generating realistic data\n",
        "fake = Faker()\n",
        "Faker.seed(0)\n",
        "\n",
        "# Constants\n",
        "NUM_PRODUCTS = 20\n",
        "NUM_CATEGORIES = 6\n",
        "PRICE_RANGE = (50, 450)\n",
        "YEAR_START, YEAR_END = 2022, 2023\n",
        "NUM_PLATFORMS = 4\n",
        "REFUND_PERCENTAGE = 0.05\n",
        "\n",
        "# Sample lists for platform names and product categories\n",
        "platform_names = [fake.company() for _ in range(NUM_PLATFORMS)]\n",
        "product_categories = [f\"Category_{i+1}\" for i in range(NUM_CATEGORIES)]\n",
        "european_regions = [\n",
        "    {\"region_id\": 1, \"region_name\": \"Île-de-France\", \"country_name\": \"France\"},\n",
        "    {\"region_id\": 2, \"region_name\": \"Bavaria\", \"country_name\": \"Germany\"},\n",
        "    {\"region_id\": 3, \"region_name\": \"Catalonia\", \"country_name\": \"Spain\"},\n",
        "    {\"region_id\": 4, \"region_name\": \"Lombardy\", \"country_name\": \"Italy\"},\n",
        "    {\"region_id\": 5, \"region_name\": \"Andalusia\", \"country_name\": \"Spain\"},\n",
        "    {\"region_id\": 6, \"region_name\": \"Occitanie\", \"country_name\": \"France\"},\n",
        "    {\"region_id\": 7, \"region_name\": \"North Rhine-Westphalia\", \"country_name\": \"Germany\"},\n",
        "    {\"region_id\": 8, \"region_name\": \"Scotland\", \"country_name\": \"United Kingdom\"},\n",
        "    {\"region_id\": 9, \"region_name\": \"Wallonia\", \"country_name\": \"Belgium\"},\n",
        "    {\"region_id\": 10, \"region_name\": \"Stockholm\", \"country_name\": \"Sweden\"},\n",
        "    {\"region_id\": 11, \"region_name\": \"Flanders\", \"country_name\": \"Belgium\"},\n",
        "    {\"region_id\": 12, \"region_name\": \"Vienna\", \"country_name\": \"Austria\"},\n",
        "    {\"region_id\": 13, \"region_name\": \"Lisbon\", \"country_name\": \"Portugal\"},\n",
        "    {\"region_id\": 14, \"region_name\": \"Zürich\", \"country_name\": \"Switzerland\"},\n",
        "    {\"region_id\": 15, \"region_name\": \"Mazovia\", \"country_name\": \"Poland\"},\n",
        "    {\"region_id\": 16, \"region_name\": \"North Holland\", \"country_name\": \"Netherlands\"},\n",
        "    {\"region_id\": 17, \"region_name\": \"Oslo\", \"country_name\": \"Norway\"},\n",
        "    {\"region_id\": 18, \"region_name\": \"Attica\", \"country_name\": \"Greece\"},\n",
        "    {\"region_id\": 19, \"region_name\": \"Budapest\", \"country_name\": \"Hungary\"},\n",
        "    {\"region_id\": 20, \"region_name\": \"Prague\", \"country_name\": \"Czech Republic\"}\n",
        "]\n",
        "\n",
        "# Generate Products Data\n",
        "products = [{\"product_id\": i+1, \"product_name\": f\"Product_{i+1}\", \"category\": random.choice(product_categories),\n",
        "             \"price\": round(random.uniform(*PRICE_RANGE), 2)} for i in range(NUM_PRODUCTS)]\n",
        "\n",
        "# Generate Transactions and Refunds Data\n",
        "transactions = []\n",
        "refunds = []\n",
        "transaction_id = 1\n",
        "\n",
        "# Define date range for transactions\n",
        "start_date = datetime(YEAR_START, 1, 1)\n",
        "end_date = datetime(YEAR_END, 12, 31)\n",
        "date_range = (end_date - start_date).days\n",
        "\n",
        "for product in products:\n",
        "    num_transactions = random.randint(20, 50)  # Randomly decide number of transactions for each product\n",
        "    for _ in range(num_transactions):\n",
        "        # Generate transaction date and details\n",
        "        transaction_date = start_date + timedelta(days=random.randint(0, date_range))\n",
        "        platform_name = random.choice(platform_names)\n",
        "        region = random.choice(european_regions)\n",
        "\n",
        "        # Append transaction\n",
        "        transactions.append({\n",
        "            \"transaction_id\": transaction_id,\n",
        "            \"product_id\": product[\"product_id\"],\n",
        "            \"product_name\": product[\"product_name\"],\n",
        "            \"product_category\": product[\"category\"],\n",
        "            \"price\": product[\"price\"],\n",
        "            \"tax\": round(product[\"price\"] * 0.15, 2),  # assuming 15% tax\n",
        "            \"transaction_date\": transaction_date.strftime(\"%Y-%m-%d\"),\n",
        "            \"platform_name\": platform_name,\n",
        "            \"region_id\": region[\"region_id\"],\n",
        "            \"region_name\": region[\"region_name\"],\n",
        "            \"country_name\": region[\"country_name\"]\n",
        "        })\n",
        "\n",
        "        # Decide if this transaction has a refund (5% of all transactions)\n",
        "        if random.random() < REFUND_PERCENTAGE:\n",
        "            refund_date = transaction_date + timedelta(days=random.randint(1, 30))  # Always after transaction_date\n",
        "            refunds.append({\n",
        "                \"transaction_id\": transaction_id,\n",
        "                \"refund_id\": f\"R{transaction_id}\",\n",
        "                \"refund_date\": refund_date.strftime(\"%Y-%m-%d\")\n",
        "            })\n",
        "\n",
        "        transaction_id += 1  # Increment unique transaction ID\n",
        "\n",
        "# Create DataFrames for transactions and refunds\n",
        "df_transactions = pd.DataFrame(transactions)\n",
        "df_refunds = pd.DataFrame(refunds)\n",
        "\n",
        "# Merge refunds with transactions\n",
        "df_final = pd.merge(df_transactions, df_refunds, on=\"transaction_id\", how=\"left\")\n",
        "\n",
        "# Save to CSV (Save directly to Colab files or Google Drive if needed)\n",
        "from google.colab import files\n",
        "\n",
        "output_path = \"generated_data.csv\"\n",
        "df_final.to_csv(output_path, index=False)\n",
        "\n",
        "# Download the file to your local machine\n",
        "files.download(output_path)\n",
        "\n",
        "print(f\"CSV file saved as {output_path}\")\n"
      ]
    }
  ]
}